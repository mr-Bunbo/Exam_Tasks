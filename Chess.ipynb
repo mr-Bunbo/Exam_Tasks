{
 "cells": [
  {
   "cell_type": "code",
   "execution_count": 2,
   "id": "dfc08075-aabf-4474-bf64-935af30e49b4",
   "metadata": {},
   "outputs": [
    {
     "name": "stdin",
     "output_type": "stream",
     "text": [
      " 6\n"
     ]
    },
    {
     "name": "stdout",
     "output_type": "stream",
     "text": [
      "[[ 1 -1 -1 -1  1 -1]\n",
      " [ 1  1 -1  1 -1 -1]\n",
      " [-1 -1  1 -1  1  1]\n",
      " [ 1  1  1 -1 -1  1]\n",
      " [ 1  1 -1 -1  1 -1]\n",
      " [-1  1  1 -1 -1  1]]\n",
      "-20\n"
     ]
    }
   ],
   "source": [
    "import numpy as np\n",
    "import random\n",
    "import math\n",
    "from matplotlib import pyplot as plt\n",
    "\n",
    "digit = int(input(''))\n",
    "pick = [1, -1]\n",
    "T = 0.8\n",
    "\n",
    "# Генерирование первичной матрицы\n",
    "matrix = np.random.choice(pick, (digit, digit))\n",
    "sum1, sum2 = 0, 0\n",
    "for i in range(digit):\n",
    "    sum1 += (matrix[i][digit-1]) * (matrix[i][0])\n",
    "    for j in range(digit-1):\n",
    "        sum1 += (matrix[i][j] * (matrix[i][j+1]))\n",
    "for j in range(digit):\n",
    "    sum2 += (matrix[digit-1][j]) * (matrix[0][j])\n",
    "    for i in range(digit-1):\n",
    "        sum2 += (matrix[i][j] * (matrix[i+1][j]))\n",
    "E1 = sum1 + sum2\n",
    "sum1, sum2 = 0, 0\n",
    "print(matrix)\n",
    "print(E1)"
   ]
  },
  {
   "cell_type": "code",
   "execution_count": 3,
   "id": "5ea338e2-9a68-4ac1-bb04-d9f116e8785d",
   "metadata": {},
   "outputs": [
    {
     "name": "stdout",
     "output_type": "stream",
     "text": [
      "[[ 1 -1  1 -1  1 -1]\n",
      " [-1  1 -1  1 -1  1]\n",
      " [ 1 -1  1 -1  1 -1]\n",
      " [-1  1 -1  1 -1  1]\n",
      " [ 1 -1  1 -1  1 -1]\n",
      " [-1  1 -1  1 -1  1]]\n",
      "-72\n"
     ]
    },
    {
     "data": {
      "text/plain": [
       "<matplotlib.image.AxesImage at 0x1d3b01598b0>"
      ]
     },
     "execution_count": 3,
     "metadata": {},
     "output_type": "execute_result"
    },
    {
     "data": {
      "image/png": "[encoded data removed]",
      "text/plain": [
       "<Figure size 432x288 with 1 Axes>"
      ]
     },
     "metadata": {
      "needs_background": "light"
     },
     "output_type": "display_data"
    }
   ],
   "source": [
    "\n",
    "    \n",
    "for i in range(0, 6000):\n",
    "\n",
    "    # Изменение знака случайного элемента\n",
    "    list_number = random.randint(0, digit-1)\n",
    "    value_number = random.randint(0, digit-1)\n",
    "    matrix[list_number][value_number] *= -1\n",
    "\n",
    "\n",
    "    # Подсчет E2\n",
    "    sum3, sum4 = 0, 0\n",
    "    for i in range(digit):\n",
    "        sum3 += (matrix[i][digit-1]) * (matrix[i][0])\n",
    "        for j in range(digit-1):\n",
    "            sum3 += (matrix[i][j] * (matrix[i][j+1]))\n",
    "    for j in range(digit):\n",
    "        sum4 += (matrix[digit-1][j]) * (matrix[0][j])\n",
    "        for i in range(digit-1):\n",
    "            sum4 += (matrix[i][j] * (matrix[i+1][j]))\n",
    "    E2 = sum3 + sum4\n",
    "    sum3, sum4 = 0, 0\n",
    "    \n",
    "    \n",
    "\n",
    "\n",
    "\n",
    "    # Подсчет изменения энергии системы\n",
    "    delta = E2 - E1\n",
    "    \n",
    "\n",
    "\n",
    "\n",
    "    if delta <= 0:\n",
    "        E1 = E2*1\n",
    "        continue\n",
    "    else:\n",
    "        \n",
    "        P = random.random()\n",
    "        W = math.exp(-delta/T)\n",
    "        if P <= W:\n",
    "            E1 = E2*1\n",
    "            continue\n",
    "        else:\n",
    "            matrix[list_number][value_number] *= -1\n",
    "            continue\n",
    "print(matrix)\n",
    "print(E1)\n",
    "plt.imshow(matrix)\n",
    "\n",
    "  \n",
    "    \n"
   ]
  },
  {
   "cell_type": "code",
   "execution_count": null,
   "id": "a04b925d-e945-450c-b6d7-d5ec06a60b37",
   "metadata": {},
   "outputs": [],
   "source": []
  },
  {
   "cell_type": "code",
   "execution_count": null,
   "id": "e6cc3ca0-1f5c-4959-8b5a-169927e9e81b",
   "metadata": {},
   "outputs": [],
   "source": []
  }
 ],
 "metadata": {
  "kernelspec": {
   "display_name": "Python 3",
   "language": "python",
   "name": "python3"
  },
  "language_info": {
   "codemirror_mode": {
    "name": "ipython",
    "version": 3
   },
   "file_extension": ".py",
   "mimetype": "text/x-python",
   "name": "python",
   "nbconvert_exporter": "python",
   "pygments_lexer": "ipython3",
   "version": "3.8.8"
  }
 },
 "nbformat": 4,
 "nbformat_minor": 5
}
