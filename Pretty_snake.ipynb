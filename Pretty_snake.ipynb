{
 "cells": [
  {
   "cell_type": "code",
   "execution_count": 3,
   "id": "d66c09db",
   "metadata": {},
   "outputs": [
    {
     "name": "stdout",
     "output_type": "stream",
     "text": [
      "Эта змея набрала  90  очков опасности\n"
     ]
    }
   ],
   "source": [
    "class DangerSnake:\n",
    "    danger_score = 0\n",
    "    def __init__(self, name, length, width, thickness, poison_power):\n",
    "        self.name = name\n",
    "        self.length = length\n",
    "        self.width = width\n",
    "        self.thickness = thickness\n",
    "        self.poison_power = poison_power\n",
    "    def is_long(self):\n",
    "        if self.length <= 1:\n",
    "            DangerSnake.danger_score += 5\n",
    "        elif self.length >= 1.01 and self.length <= 2:\n",
    "            DangerSnake.danger_score += 10\n",
    "        else:\n",
    "            DangerSnake.danger_score += 20\n",
    "    def is_wide(self):\n",
    "        if self.width <= 0.01:\n",
    "            DangerSnake.danger_score += 5\n",
    "        elif self.width >= 0.011 and self.width <= 0.035:\n",
    "            DangerSnake.danger_score += 10\n",
    "        elif self.width >= 0.036 and self.width <= 0.070:\n",
    "            DangerSnake.danger_score += 15\n",
    "        else:\n",
    "            DangerSnake.danger_score += 20\n",
    "    def is_thick(self):\n",
    "        if self.thickness <= 0.01:\n",
    "            DangerSnake.danger_score += 5\n",
    "        elif self.thickness >= 0.011 and self.thickness <= 0.035:\n",
    "            DangerSnake.danger_score += 10\n",
    "        elif self.thickness >= 0.036 and self.thickness <= 0.070:\n",
    "            DangerSnake.danger_score += 15\n",
    "        else:\n",
    "            DangerSnake.danger_score += 20\n",
    " \n",
    "    def is_poison(self):\n",
    "        if self.poison_power == 1:\n",
    "            DangerSnake.danger_score += 5\n",
    "        elif self.poison_power == 2:\n",
    "            DangerSnake.danger_score += 10\n",
    "        elif self.poison_power == 3:\n",
    "            DangerSnake.danger_score += 15\n",
    "        elif self.poison_power == 4:\n",
    "            DangerSnake.danger_score += 20\n",
    "        else:\n",
    "            DangerSnake.danger_score += 30\n",
    "\n",
    "            \n",
    "            \n",
    "snake1 = DangerSnake('Anaconda', 10, 10, 10, 0)\n",
    "\n",
    "snake1.is_long()\n",
    "snake1.is_wide()\n",
    "snake1.is_thick()\n",
    "snake1.is_poison()\n",
    "print('Эта змея набрала ',snake1.danger_score,' очков опасности')\n",
    "del snake1  "
   ]
  },
  {
   "cell_type": "code",
   "execution_count": null,
   "id": "d45664d6",
   "metadata": {},
   "outputs": [],
   "source": []
  }
 ],
 "metadata": {
  "kernelspec": {
   "display_name": "Python 3",
   "language": "python",
   "name": "python3"
  },
  "language_info": {
   "codemirror_mode": {
    "name": "ipython",
    "version": 3
   },
   "file_extension": ".py",
   "mimetype": "text/x-python",
   "name": "python",
   "nbconvert_exporter": "python",
   "pygments_lexer": "ipython3",
   "version": "3.8.8"
  }
 },
 "nbformat": 4,
 "nbformat_minor": 5
}
