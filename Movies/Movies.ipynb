{
 "cells": [
  {
   "cell_type": "code",
   "execution_count": 3,
   "id": "ccff0002-c637-43c8-ac49-4e3e7579b4f9",
   "metadata": {},
   "outputs": [
    {
     "name": "stderr",
     "output_type": "stream",
     "text": [
      "<ipython-input-3-be0e72fe7146>:3: ParserWarning: Falling back to the 'python' engine because the 'c' engine does not support regex separators (separators > 1 char and different from '\\s+' are interpreted as regex); you can avoid this warning by specifying engine='python'.\n",
      "  users = pd.read_table('users.dat', sep='::', names=['UserID', 'Gender', 'Age', 'Occupation', 'Zip-code'])\n",
      "<ipython-input-3-be0e72fe7146>:4: ParserWarning: Falling back to the 'python' engine because the 'c' engine does not support regex separators (separators > 1 char and different from '\\s+' are interpreted as regex); you can avoid this warning by specifying engine='python'.\n",
      "  movies = pd.read_table('movies.dat', sep='::', names=['MovieID', 'Title', 'Genres'])\n",
      "<ipython-input-3-be0e72fe7146>:5: ParserWarning: Falling back to the 'python' engine because the 'c' engine does not support regex separators (separators > 1 char and different from '\\s+' are interpreted as regex); you can avoid this warning by specifying engine='python'.\n",
      "  ratings =pd.read_table('ratings.dat', sep='::', names=['UserID', 'MovieID', 'Rating', 'Timestamp'])\n"
     ]
    }
   ],
   "source": [
    "# Считываем данные с файлов\n",
    "import pandas as pd\n",
    "users = pd.read_table('users.dat', sep='::', names=['UserID', 'Gender', 'Age', 'Occupation', 'Zip-code'])\n",
    "movies = pd.read_table('movies.dat', sep='::', names=['MovieID', 'Title', 'Genres'])\n",
    "ratings =pd.read_table('ratings.dat', sep='::', names=['UserID', 'MovieID', 'Rating', 'Timestamp'])"
   ]
  },
  {
   "cell_type": "code",
   "execution_count": 4,
   "id": "ce272c7d-997b-49a5-a23a-301d9ffebc6e",
   "metadata": {},
   "outputs": [
    {
     "name": "stdout",
     "output_type": "stream",
     "text": [
      "         UserID  MovieID  Rating  Timestamp Gender  Age  Occupation Zip-code  \\\n",
      "0             1     1193       5  978300760      F    1          10    48067   \n",
      "1             2     1193       5  978298413      M   56          16    70072   \n",
      "2            12     1193       4  978220179      M   25          12    32793   \n",
      "3            15     1193       4  978199279      M   25           7    22903   \n",
      "4            17     1193       5  978158471      M   50           1    95350   \n",
      "...         ...      ...     ...        ...    ...  ...         ...      ...   \n",
      "1000204    5949     2198       5  958846401      M   18          17    47901   \n",
      "1000205    5675     2703       3  976029116      M   35          14    30030   \n",
      "1000206    5780     2845       1  958153068      M   18          17    92886   \n",
      "1000207    5851     3607       5  957756608      F   18          20    55410   \n",
      "1000208    5938     2909       4  957273353      M   25           1    35401   \n",
      "\n",
      "                                               Title                Genres  \n",
      "0             One Flew Over the Cuckoo's Nest (1975)                 Drama  \n",
      "1             One Flew Over the Cuckoo's Nest (1975)                 Drama  \n",
      "2             One Flew Over the Cuckoo's Nest (1975)                 Drama  \n",
      "3             One Flew Over the Cuckoo's Nest (1975)                 Drama  \n",
      "4             One Flew Over the Cuckoo's Nest (1975)                 Drama  \n",
      "...                                              ...                   ...  \n",
      "1000204                           Modulations (1998)           Documentary  \n",
      "1000205                        Broken Vessels (1998)                 Drama  \n",
      "1000206                            White Boys (1999)                 Drama  \n",
      "1000207                     One Little Indian (1973)  Comedy|Drama|Western  \n",
      "1000208  Five Wives, Three Secretaries and Me (1998)           Documentary  \n",
      "\n",
      "[1000209 rows x 10 columns]\n"
     ]
    }
   ],
   "source": [
    "# Объединяем данные в одну таблицу с помощью merge\n",
    "first = pd.merge(ratings, users)\n",
    "table = pd.merge(first, movies)\n",
    "print(table)"
   ]
  },
  {
   "cell_type": "code",
   "execution_count": 5,
   "id": "1271e15d-42e8-4050-8d1a-e2247a9a5d69",
   "metadata": {},
   "outputs": [
    {
     "name": "stdout",
     "output_type": "stream",
     "text": [
      "                                                     Rating\n",
      "Gender Title                                               \n",
      "F      $1,000,000 Duck (1971)                      3.375000\n",
      "       'Night Mother (1986)                        3.388889\n",
      "       'Til There Was You (1997)                   2.675676\n",
      "       'burbs, The (1989)                          2.793478\n",
      "       ...And Justice for All (1979)               3.828571\n",
      "...                                                     ...\n",
      "M      Zed & Two Noughts, A (1985)                 3.380952\n",
      "       Zero Effect (1998)                          3.723140\n",
      "       Zero Kelvin (Kj�rlighetens kj�tere) (1995)  3.500000\n",
      "       Zeus and Roxanne (1997)                     2.357143\n",
      "       eXistenZ (1999)                             3.289086\n",
      "\n",
      "[7152 rows x 1 columns] \n",
      "\n",
      "                                             Rating\n",
      "Age Title                                          \n",
      "1   'Night Mother (1986)                   2.000000\n",
      "    'Til There Was You (1997)              3.500000\n",
      "    'burbs, The (1989)                     4.500000\n",
      "    ...And Justice for All (1979)          3.000000\n",
      "    10 Things I Hate About You (1999)      3.745455\n",
      "...                                             ...\n",
      "56  Young Poisoner's Handbook, The (1995)  4.000000\n",
      "    Young Sherlock Holmes (1985)           3.388889\n",
      "    Your Friends and Neighbors (1998)      4.000000\n",
      "    Zero Effect (1998)                     3.625000\n",
      "    eXistenZ (1999)                        2.200000\n",
      "\n",
      "[22457 rows x 1 columns]\n"
     ]
    }
   ],
   "source": [
    "# Первая таблица - средний рейтинг всех фильмов при групперовке по полу\n",
    "# Вторая таблица - средний рейтинг всех фильмов при групперовке по возрасту\n",
    "Gender_Rating = pd.pivot_table(table,\n",
    "               index=[\"Gender\", 'Title'],\n",
    "              values=['Rating'])\n",
    "print(Gender_Rating, '\\n')\n",
    "Age_Rating = pd.pivot_table(table,\n",
    "               index=[\"Age\", 'Title'],\n",
    "              values=['Rating'])\n",
    "print(Age_Rating)"
   ]
  },
  {
   "cell_type": "code",
   "execution_count": 6,
   "id": "b576b192-545b-47ad-970b-4291e2465f77",
   "metadata": {},
   "outputs": [
    {
     "name": "stdout",
     "output_type": "stream",
     "text": [
      "                                                           Rating\n",
      "Gender Title                                                     \n",
      "F      Clean Slate (Coup de Torchon) (1981)                   5.0\n",
      "       Ballad of Narayama, The (Narayama Bushiko) (1958)      5.0\n",
      "       Raw Deal (1948)                                        5.0\n",
      "       Bittersweet Motel (2000)                               5.0\n",
      "       Skipped Parts (2000)                                   5.0\n",
      "...                                                           ...\n",
      "       My Life and Times With Antonin Artaud (En compa...     1.0\n",
      "       Sorority House Massacre II (1990)                      1.0\n",
      "       Big Bully (1996)                                       1.0\n",
      "       Dangerous Ground (1997)                                1.0\n",
      "       Bloodsport 2 (1995)                                    1.0\n",
      "\n",
      "[3481 rows x 1 columns]\n",
      "                                             Rating\n",
      "Title                                              \n",
      "Jude (1996)                                     5.0\n",
      "Decline of Western Civilization, The (1981)     5.0\n",
      "Innocents, The (1961)                           5.0\n",
      "Conformist, The (Il Conformista) (1970)         5.0\n",
      "Wide Awake (1998)                               5.0\n",
      "...                                             ...\n",
      "Prom Night (1980)                               1.0\n",
      "Prom Night III: The Last Kiss (1989)            1.0\n",
      "Prom Night IV: Deliver Us From Evil (1992)      1.0\n",
      "Horror Express (1972)                           1.0\n",
      "Mummy, The (1959)                               1.0\n",
      "\n",
      "[2913 rows x 1 columns]\n"
     ]
    }
   ],
   "source": [
    "# В первой таблице мы отсортировали средние рейтинги в порядке убывания популярности у женской аудитории.\n",
    "Gender_Rating_FemSort = Gender_Rating['F':'F'].sort_values(by='Rating', ascending=False)\n",
    "print(Gender_Rating_FemSort)\n",
    "# С сортировкой при группировке по возрасту возникли проблемы (было невозможно выбрать всех 56-летних людей, если возраст был индексом) поэтому я использовал костыль:\n",
    "Age_Rating_T = Age_Rating.T\n",
    "Age_Rating = Age_Rating_T[56].T\n",
    "Age_Rating_OldSort = Age_Rating.sort_values(by='Rating', ascending=False)\n",
    "print(Age_Rating_OldSort)"
   ]
  },
  {
   "cell_type": "code",
   "execution_count": 7,
   "id": "90f12317-e8ae-42b6-979d-3d68267b1cd5",
   "metadata": {},
   "outputs": [
    {
     "name": "stdout",
     "output_type": "stream",
     "text": [
      "                                   Rating\n",
      "Title                                    \n",
      "'burbs, The (1989)                    303\n",
      "10 Things I Hate About You (1999)     700\n",
      "101 Dalmatians (1961)                 565\n",
      "101 Dalmatians (1996)                 364\n",
      "12 Angry Men (1957)                   616\n",
      "...                                   ...\n",
      "Young Guns (1988)                     562\n",
      "Young Guns II (1990)                  369\n",
      "Young Sherlock Holmes (1985)          379\n",
      "Zero Effect (1998)                    301\n",
      "eXistenZ (1999)                       410\n",
      "\n",
      "[1216 rows x 1 columns]\n"
     ]
    }
   ],
   "source": [
    "func_count = {\n",
    "    'Rating':'count'\n",
    "}\n",
    "a_lot_of_ratings = table.groupby(['Title']).agg(func_count)\n",
    "filtered_a_lot_of_ratings = a_lot_of_ratings.query('Rating>=250')\n",
    "print(filtered_a_lot_of_ratings)"
   ]
  },
  {
   "cell_type": "code",
   "execution_count": 8,
   "id": "1df7d7bf-dfb7-4d71-a5bc-77ceba334421",
   "metadata": {},
   "outputs": [
    {
     "name": "stdout",
     "output_type": "stream",
     "text": [
      "                                                     Rating\n",
      "Title                                      Gender          \n",
      "$1,000,000 Duck (1971)                     F       3.375000\n",
      "                                           M       2.761905\n",
      "'Night Mother (1986)                       F       3.388889\n",
      "                                           M       3.352941\n",
      "'Til There Was You (1997)                  F       2.675676\n",
      "...                                                     ...\n",
      "Zero Kelvin (Kj�rlighetens kj�tere) (1995) M       3.500000\n",
      "Zeus and Roxanne (1997)                    F       2.777778\n",
      "                                           M       2.357143\n",
      "eXistenZ (1999)                            F       3.098592\n",
      "                                           M       3.289086\n",
      "\n",
      "[7152 rows x 1 columns]\n",
      "Популярные у женщин, но ненавистные мужчинами\n",
      "                                                             Rating\n",
      "Gender Title                                                       \n",
      "F      Spiders, The (Die Spinnen, 1. Teil: Der Goldene...  3.000000\n",
      "       Country Life (1994)                                 3.000000\n",
      "       James Dean Story, The (1957)                        3.000000\n",
      "       Babyfever (1994)                                    2.666667\n",
      "       Woman of Paris, A (1923)                            2.571429\n",
      "       Cobra (1925)                                        2.500000\n",
      "       Other Side of Sunday, The (S�ndagsengler) (1996)    2.071429\n",
      "       Crude Oasis, The (1995)                             2.000000\n",
      "       For the Moment (1994)                               2.000000\n",
      "       To Have, or Not (1995)                              2.000000\n",
      "       Separation, The (La S�paration) (1994)              2.000000\n",
      "       Belly (1998)                                        2.000000\n",
      "       Coming Apart (1969)                                 2.000000\n",
      "       Mad Dog Time (1996)                                 2.000000\n",
      "       Phat Beach (1996)                                   2.000000\n",
      "Популярные у мужчин, но ненавистные женщинами\n",
      "                                                     Rating\n",
      "Gender Title                                               \n",
      "F      Tigrero: A Film That Was Never Made (1994) -3.333333\n",
      "       Neon Bible, The (1995)                     -3.000000\n",
      "       Enfer, L' (1994)                           -2.750000\n",
      "       Stalingrad (1993)                          -2.593750\n",
      "       Killer: A Journal of Murder (1995)         -2.428571\n",
      "       Dangerous Ground (1997)                    -2.333333\n",
      "       Rosie (1998)                               -2.333333\n",
      "       In God's Hands (1998)                      -2.333333\n",
      "       Flying Saucer, The (1950)                  -2.300000\n",
      "       Jamaica Inn (1939)                         -2.142857\n",
      "       Kronos (1957)                              -2.111111\n",
      "       Little Men (1998)                          -2.000000\n",
      "       Truce, The (1996)                          -2.000000\n",
      "       Angela (1995)                              -2.000000\n",
      "       Master Ninja I (1984)                      -2.000000\n"
     ]
    }
   ],
   "source": [
    "mid_func = {\n",
    "    'Rating':'mean'\n",
    "}\n",
    "cry_func = {\n",
    "    'Rating':'std'\n",
    "}\n",
    "MiddleValue = table.groupby(['Title', 'Gender']).agg(mid_func)\n",
    "print(MiddleValue)\n",
    "what_is_that = {\n",
    "    'Rating':'min'\n",
    "}\n",
    "what_is_that2 = {\n",
    "    'Rating':'max'\n",
    "}\n",
    "minrating = MiddleValue.groupby(['Title']).agg(what_is_that)\n",
    "maxrating = MiddleValue.groupby(['Title']).agg(what_is_that2)\n",
    "wat = maxrating - minrating\n",
    "wat_sorted = wat.sort_values(by='Rating', ascending=False)\n",
    "Gender_Rating_MaleSort = Gender_Rating['M':'M'].sort_values(by='Rating', ascending=False)\n",
    "Gender_Rating_MaleSort.reset_index(level='Gender', drop=True, inplace=True)\n",
    "i_am_crying = Gender_Rating_FemSort - Gender_Rating_MaleSort\n",
    "i_am_crying = i_am_crying.sort_values(by='Rating', ascending=False)\n",
    "print('Популярные у женщин, но ненавистные мужчинами')\n",
    "print(i_am_crying.head(15))\n",
    "i_am_crying = i_am_crying.sort_values(by='Rating', ascending=True)\n",
    "print('Популярные у мужчин, но ненавистные женщинами')\n",
    "print(i_am_crying.head(15))"
   ]
  },
  {
   "cell_type": "code",
   "execution_count": null,
   "id": "5f00cc24-f819-4ec9-b551-3221f78573f0",
   "metadata": {},
   "outputs": [],
   "source": []
  }
 ],
 "metadata": {
  "kernelspec": {
   "display_name": "Python 3",
   "language": "python",
   "name": "python3"
  },
  "language_info": {
   "codemirror_mode": {
    "name": "ipython",
    "version": 3
   },
   "file_extension": ".py",
   "mimetype": "text/x-python",
   "name": "python",
   "nbconvert_exporter": "python",
   "pygments_lexer": "ipython3",
   "version": "3.8.8"
  }
 },
 "nbformat": 4,
 "nbformat_minor": 5
}
