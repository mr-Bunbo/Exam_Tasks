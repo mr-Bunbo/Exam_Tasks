{
 "cells": [
  {
   "cell_type": "code",
   "execution_count": 3,
   "id": "02d8c01b-0299-4c51-9311-14e3aa21b8d4",
   "metadata": {},
   "outputs": [
    {
     "name": "stdout",
     "output_type": "stream",
     "text": [
      "Сейчас вы начнете играть в игру *камень-ножницы-бумага*\n",
      "если вы хотите использовать камень ножницы или бумагу, то напишите в диалоговое окно: \"rock, scissors, paper\" соответственно\n",
      "Для остановки игры введите stop\n"
     ]
    },
    {
     "name": "stdin",
     "output_type": "stream",
     "text": [
      " rock\n"
     ]
    },
    {
     "name": "stdout",
     "output_type": "stream",
     "text": [
      "У компьютера scissors, ПОБЕДА\n"
     ]
    },
    {
     "name": "stdin",
     "output_type": "stream",
     "text": [
      " stop\n"
     ]
    },
    {
     "name": "stdout",
     "output_type": "stream",
     "text": [
      "Игра окончена\n",
      "Всего игр: 1, побед: 1, поражений: 0\n"
     ]
    }
   ],
   "source": [
    "from random import randint\n",
    "\n",
    "\n",
    "def game():\n",
    "    game_count = 0\n",
    "    win_count = 0\n",
    "    defeat_count = 0\n",
    "    print('Сейчас вы начнете играть в игру *камень-ножницы-бумага*')\n",
    "    print('если вы хотите использовать камень ножницы или бумагу, то напишите в диалоговое окно: \"rock, scissors, paper\" соответственно')\n",
    "    print('Для остановки игры введите stop')\n",
    "    while True:\n",
    "        player_sign = input('')\n",
    "        a = randint(1, 3)\n",
    "        if a == 1:\n",
    "            pc_sign = 'rock'\n",
    "        elif a == 2:\n",
    "            pc_sign = 'scissors'\n",
    "        else:\n",
    "            pc_sign = 'paper'\n",
    "        if pc_sign == player_sign:\n",
    "            print(f'У компьютера тоже {pc_sign}, НИЧЬЯ')\n",
    "            game_count += 1\n",
    "        elif pc_sign == 'rock' and player_sign == 'scissors':\n",
    "            print(f'У компьютера {pc_sign}, ПОРАЖЕНИЕ')\n",
    "            game_count += 1\n",
    "            defeat_count += 1\n",
    "        elif pc_sign == 'paper' and player_sign == 'scissors':\n",
    "            print(f'У компьютера {pc_sign}, ПОБЕДА')\n",
    "            game_count += 1\n",
    "            win_count += 1\n",
    "        elif pc_sign == 'scissors' and player_sign == 'rock':\n",
    "            print(f'У компьютера {pc_sign}, ПОБЕДА')\n",
    "            game_count += 1\n",
    "            win_count += 1\n",
    "        elif pc_sign == 'rock' and player_sign == 'paper':\n",
    "            print(f'У компьютера {pc_sign}, ПОБЕДА')\n",
    "            game_count += 1\n",
    "            win_count += 1\n",
    "        elif pc_sign == 'scissors' and player_sign == 'paper':\n",
    "            print(f'У компьютера {pc_sign}, ПОРАЖЕНИЕ')\n",
    "            game_count += 1\n",
    "            defeat_count += 1\n",
    "        elif pc_sign == 'paper' and player_sign == 'rock':\n",
    "            print(f'У компьютера {pc_sign}, ПОРАЖЕНИЕ')\n",
    "            game_count += 1\n",
    "            defeat_count += 1\n",
    "        elif player_sign == 'stop':\n",
    "            print('Игра окончена')\n",
    "            print(f'Всего игр: {game_count}, побед: {win_count}, поражений: {defeat_count}')\n",
    "            break\n",
    "        else:\n",
    "            print('Вы ввели не верное значение!')\n",
    "            game_count += 1\n",
    "\n",
    "\n",
    "if __name__ == '__main__':\n",
    "    game()"
   ]
  },
  {
   "cell_type": "code",
   "execution_count": null,
   "id": "ed579586-82d0-40c5-b878-91b8e713fa7d",
   "metadata": {},
   "outputs": [],
   "source": []
  }
 ],
 "metadata": {
  "kernelspec": {
   "display_name": "Python 3",
   "language": "python",
   "name": "python3"
  },
  "language_info": {
   "codemirror_mode": {
    "name": "ipython",
    "version": 3
   },
   "file_extension": ".py",
   "mimetype": "text/x-python",
   "name": "python",
   "nbconvert_exporter": "python",
   "pygments_lexer": "ipython3",
   "version": "3.8.8"
  }
 },
 "nbformat": 4,
 "nbformat_minor": 5
}
